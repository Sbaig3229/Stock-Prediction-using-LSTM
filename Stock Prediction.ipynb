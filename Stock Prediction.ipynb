{
  "nbformat": 4,
  "nbformat_minor": 0,
  "metadata": {
    "colab": {
      "name": "Deep Learning Project Submission Date (08 May, 2022): Evaluation of Tree Based Ensemble Machine Learning Models in Predicting Stock Price Direction of Movement.ipynb",
      "provenance": [],
      "collapsed_sections": []
    },
    "kernelspec": {
      "name": "python3",
      "display_name": "Python 3"
    },
    "language_info": {
      "name": "python"
    },
    "accelerator": "TPU"
  },
  "cells": [
    {
      "cell_type": "code",
      "source": [
        "from google.colab import drive\n",
        "drive.mount('/content/drive')"
      ],
      "metadata": {
        "colab": {
          "base_uri": "https://localhost:8080/"
        },
        "id": "A2qplkJqEQ9k",
        "outputId": "3f4850c5-00fe-4b2a-b572-ec6752dc9f14"
      },
      "execution_count": null,
      "outputs": [
        {
          "output_type": "stream",
          "name": "stdout",
          "text": [
            "Drive already mounted at /content/drive; to attempt to forcibly remount, call drive.mount(\"/content/drive\", force_remount=True).\n"
          ]
        }
      ]
    },
    {
      "cell_type": "code",
      "source": [
        "#importing libraries\n",
        "import numpy as np \n",
        "import matplotlib.pyplot as plt\n",
        "from matplotlib import style\n",
        "import pandas as pd\n",
        "!pip install yfinance\n",
        "import yfinance as yf\n",
        "from pandas_datareader import data as pdr\n",
        "import datetime as date\n",
        "#!pip install ta-lib\n",
        "from  sklearn.metrics import accuracy_score\n",
        "\n",
        "from sklearn.metrics import classification_report\n",
        "from sklearn.metrics import roc_auc_score, roc_curve, auc\n",
        "from sklearn.metrics import confusion_matrix\n",
        "\n",
        "#reading the data\n",
        "apple = pd.read_csv('/content/AAPL.csv')\n",
        "apple"
      ],
      "metadata": {
        "colab": {
          "base_uri": "https://localhost:8080/",
          "height": 667
        },
        "id": "YktmO43vDV8w",
        "outputId": "3b29bc81-6474-4a18-8d47-08a485b4b2df"
      },
      "execution_count": null,
      "outputs": [
        {
          "output_type": "stream",
          "name": "stdout",
          "text": [
            "Looking in indexes: https://pypi.org/simple, https://us-python.pkg.dev/colab-wheels/public/simple/\n",
            "Requirement already satisfied: yfinance in /usr/local/lib/python3.7/dist-packages (0.1.74)\n",
            "Requirement already satisfied: pandas>=0.24.0 in /usr/local/lib/python3.7/dist-packages (from yfinance) (1.3.5)\n",
            "Requirement already satisfied: numpy>=1.15 in /usr/local/lib/python3.7/dist-packages (from yfinance) (1.21.6)\n",
            "Requirement already satisfied: multitasking>=0.0.7 in /usr/local/lib/python3.7/dist-packages (from yfinance) (0.0.11)\n",
            "Requirement already satisfied: lxml>=4.5.1 in /usr/local/lib/python3.7/dist-packages (from yfinance) (4.9.1)\n",
            "Requirement already satisfied: requests>=2.26 in /usr/local/lib/python3.7/dist-packages (from yfinance) (2.28.1)\n",
            "Requirement already satisfied: python-dateutil>=2.7.3 in /usr/local/lib/python3.7/dist-packages (from pandas>=0.24.0->yfinance) (2.8.2)\n",
            "Requirement already satisfied: pytz>=2017.3 in /usr/local/lib/python3.7/dist-packages (from pandas>=0.24.0->yfinance) (2022.1)\n",
            "Requirement already satisfied: six>=1.5 in /usr/local/lib/python3.7/dist-packages (from python-dateutil>=2.7.3->pandas>=0.24.0->yfinance) (1.15.0)\n",
            "Requirement already satisfied: charset-normalizer<3,>=2 in /usr/local/lib/python3.7/dist-packages (from requests>=2.26->yfinance) (2.1.0)\n",
            "Requirement already satisfied: certifi>=2017.4.17 in /usr/local/lib/python3.7/dist-packages (from requests>=2.26->yfinance) (2022.6.15)\n",
            "Requirement already satisfied: idna<4,>=2.5 in /usr/local/lib/python3.7/dist-packages (from requests>=2.26->yfinance) (2.10)\n",
            "Requirement already satisfied: urllib3<1.27,>=1.21.1 in /usr/local/lib/python3.7/dist-packages (from requests>=2.26->yfinance) (1.24.3)\n"
          ]
        },
        {
          "output_type": "execute_result",
          "data": {
            "text/plain": [
              "            Date        Open        High         Low       Close   Adj Close  \\\n",
              "0     2005-05-06    1.317500    1.333214    1.313929    1.330000    1.138845   \n",
              "1     2005-05-09    1.331429    1.337500    1.312500    1.320357    1.130588   \n",
              "2     2005-05-10    1.312500    1.330357    1.297500    1.300714    1.113768   \n",
              "3     2005-05-11    1.257143    1.273929    1.182500    1.271786    1.088997   \n",
              "4     2005-05-12    1.265000    1.271071    1.214286    1.218929    1.043737   \n",
              "...          ...         ...         ...         ...         ...         ...   \n",
              "4275  2022-04-29  161.839996  166.199997  157.250000  157.649994  157.649994   \n",
              "4276  2022-05-02  156.710007  158.229996  153.270004  157.960007  157.960007   \n",
              "4277  2022-05-03  158.149994  160.710007  156.320007  159.479996  159.479996   \n",
              "4278  2022-05-04  159.669998  166.479996  159.259995  166.020004  166.020004   \n",
              "4279  2022-05-05  163.850006  164.080002  154.949997  156.770004  156.770004   \n",
              "\n",
              "          Volume  \n",
              "0      326247600  \n",
              "1      355695200  \n",
              "2      440263600  \n",
              "3     2041981200  \n",
              "4      970242000  \n",
              "...          ...  \n",
              "4275   131587100  \n",
              "4276   123055300  \n",
              "4277    88966500  \n",
              "4278   108256500  \n",
              "4279   129838200  \n",
              "\n",
              "[4280 rows x 7 columns]"
            ],
            "text/html": [
              "\n",
              "  <div id=\"df-1faac1f8-5987-42ae-9550-e527b77fac89\">\n",
              "    <div class=\"colab-df-container\">\n",
              "      <div>\n",
              "<style scoped>\n",
              "    .dataframe tbody tr th:only-of-type {\n",
              "        vertical-align: middle;\n",
              "    }\n",
              "\n",
              "    .dataframe tbody tr th {\n",
              "        vertical-align: top;\n",
              "    }\n",
              "\n",
              "    .dataframe thead th {\n",
              "        text-align: right;\n",
              "    }\n",
              "</style>\n",
              "<table border=\"1\" class=\"dataframe\">\n",
              "  <thead>\n",
              "    <tr style=\"text-align: right;\">\n",
              "      <th></th>\n",
              "      <th>Date</th>\n",
              "      <th>Open</th>\n",
              "      <th>High</th>\n",
              "      <th>Low</th>\n",
              "      <th>Close</th>\n",
              "      <th>Adj Close</th>\n",
              "      <th>Volume</th>\n",
              "    </tr>\n",
              "  </thead>\n",
              "  <tbody>\n",
              "    <tr>\n",
              "      <th>0</th>\n",
              "      <td>2005-05-06</td>\n",
              "      <td>1.317500</td>\n",
              "      <td>1.333214</td>\n",
              "      <td>1.313929</td>\n",
              "      <td>1.330000</td>\n",
              "      <td>1.138845</td>\n",
              "      <td>326247600</td>\n",
              "    </tr>\n",
              "    <tr>\n",
              "      <th>1</th>\n",
              "      <td>2005-05-09</td>\n",
              "      <td>1.331429</td>\n",
              "      <td>1.337500</td>\n",
              "      <td>1.312500</td>\n",
              "      <td>1.320357</td>\n",
              "      <td>1.130588</td>\n",
              "      <td>355695200</td>\n",
              "    </tr>\n",
              "    <tr>\n",
              "      <th>2</th>\n",
              "      <td>2005-05-10</td>\n",
              "      <td>1.312500</td>\n",
              "      <td>1.330357</td>\n",
              "      <td>1.297500</td>\n",
              "      <td>1.300714</td>\n",
              "      <td>1.113768</td>\n",
              "      <td>440263600</td>\n",
              "    </tr>\n",
              "    <tr>\n",
              "      <th>3</th>\n",
              "      <td>2005-05-11</td>\n",
              "      <td>1.257143</td>\n",
              "      <td>1.273929</td>\n",
              "      <td>1.182500</td>\n",
              "      <td>1.271786</td>\n",
              "      <td>1.088997</td>\n",
              "      <td>2041981200</td>\n",
              "    </tr>\n",
              "    <tr>\n",
              "      <th>4</th>\n",
              "      <td>2005-05-12</td>\n",
              "      <td>1.265000</td>\n",
              "      <td>1.271071</td>\n",
              "      <td>1.214286</td>\n",
              "      <td>1.218929</td>\n",
              "      <td>1.043737</td>\n",
              "      <td>970242000</td>\n",
              "    </tr>\n",
              "    <tr>\n",
              "      <th>...</th>\n",
              "      <td>...</td>\n",
              "      <td>...</td>\n",
              "      <td>...</td>\n",
              "      <td>...</td>\n",
              "      <td>...</td>\n",
              "      <td>...</td>\n",
              "      <td>...</td>\n",
              "    </tr>\n",
              "    <tr>\n",
              "      <th>4275</th>\n",
              "      <td>2022-04-29</td>\n",
              "      <td>161.839996</td>\n",
              "      <td>166.199997</td>\n",
              "      <td>157.250000</td>\n",
              "      <td>157.649994</td>\n",
              "      <td>157.649994</td>\n",
              "      <td>131587100</td>\n",
              "    </tr>\n",
              "    <tr>\n",
              "      <th>4276</th>\n",
              "      <td>2022-05-02</td>\n",
              "      <td>156.710007</td>\n",
              "      <td>158.229996</td>\n",
              "      <td>153.270004</td>\n",
              "      <td>157.960007</td>\n",
              "      <td>157.960007</td>\n",
              "      <td>123055300</td>\n",
              "    </tr>\n",
              "    <tr>\n",
              "      <th>4277</th>\n",
              "      <td>2022-05-03</td>\n",
              "      <td>158.149994</td>\n",
              "      <td>160.710007</td>\n",
              "      <td>156.320007</td>\n",
              "      <td>159.479996</td>\n",
              "      <td>159.479996</td>\n",
              "      <td>88966500</td>\n",
              "    </tr>\n",
              "    <tr>\n",
              "      <th>4278</th>\n",
              "      <td>2022-05-04</td>\n",
              "      <td>159.669998</td>\n",
              "      <td>166.479996</td>\n",
              "      <td>159.259995</td>\n",
              "      <td>166.020004</td>\n",
              "      <td>166.020004</td>\n",
              "      <td>108256500</td>\n",
              "    </tr>\n",
              "    <tr>\n",
              "      <th>4279</th>\n",
              "      <td>2022-05-05</td>\n",
              "      <td>163.850006</td>\n",
              "      <td>164.080002</td>\n",
              "      <td>154.949997</td>\n",
              "      <td>156.770004</td>\n",
              "      <td>156.770004</td>\n",
              "      <td>129838200</td>\n",
              "    </tr>\n",
              "  </tbody>\n",
              "</table>\n",
              "<p>4280 rows × 7 columns</p>\n",
              "</div>\n",
              "      <button class=\"colab-df-convert\" onclick=\"convertToInteractive('df-1faac1f8-5987-42ae-9550-e527b77fac89')\"\n",
              "              title=\"Convert this dataframe to an interactive table.\"\n",
              "              style=\"display:none;\">\n",
              "        \n",
              "  <svg xmlns=\"http://www.w3.org/2000/svg\" height=\"24px\"viewBox=\"0 0 24 24\"\n",
              "       width=\"24px\">\n",
              "    <path d=\"M0 0h24v24H0V0z\" fill=\"none\"/>\n",
              "    <path d=\"M18.56 5.44l.94 2.06.94-2.06 2.06-.94-2.06-.94-.94-2.06-.94 2.06-2.06.94zm-11 1L8.5 8.5l.94-2.06 2.06-.94-2.06-.94L8.5 2.5l-.94 2.06-2.06.94zm10 10l.94 2.06.94-2.06 2.06-.94-2.06-.94-.94-2.06-.94 2.06-2.06.94z\"/><path d=\"M17.41 7.96l-1.37-1.37c-.4-.4-.92-.59-1.43-.59-.52 0-1.04.2-1.43.59L10.3 9.45l-7.72 7.72c-.78.78-.78 2.05 0 2.83L4 21.41c.39.39.9.59 1.41.59.51 0 1.02-.2 1.41-.59l7.78-7.78 2.81-2.81c.8-.78.8-2.07 0-2.86zM5.41 20L4 18.59l7.72-7.72 1.47 1.35L5.41 20z\"/>\n",
              "  </svg>\n",
              "      </button>\n",
              "      \n",
              "  <style>\n",
              "    .colab-df-container {\n",
              "      display:flex;\n",
              "      flex-wrap:wrap;\n",
              "      gap: 12px;\n",
              "    }\n",
              "\n",
              "    .colab-df-convert {\n",
              "      background-color: #E8F0FE;\n",
              "      border: none;\n",
              "      border-radius: 50%;\n",
              "      cursor: pointer;\n",
              "      display: none;\n",
              "      fill: #1967D2;\n",
              "      height: 32px;\n",
              "      padding: 0 0 0 0;\n",
              "      width: 32px;\n",
              "    }\n",
              "\n",
              "    .colab-df-convert:hover {\n",
              "      background-color: #E2EBFA;\n",
              "      box-shadow: 0px 1px 2px rgba(60, 64, 67, 0.3), 0px 1px 3px 1px rgba(60, 64, 67, 0.15);\n",
              "      fill: #174EA6;\n",
              "    }\n",
              "\n",
              "    [theme=dark] .colab-df-convert {\n",
              "      background-color: #3B4455;\n",
              "      fill: #D2E3FC;\n",
              "    }\n",
              "\n",
              "    [theme=dark] .colab-df-convert:hover {\n",
              "      background-color: #434B5C;\n",
              "      box-shadow: 0px 1px 3px 1px rgba(0, 0, 0, 0.15);\n",
              "      filter: drop-shadow(0px 1px 2px rgba(0, 0, 0, 0.3));\n",
              "      fill: #FFFFFF;\n",
              "    }\n",
              "  </style>\n",
              "\n",
              "      <script>\n",
              "        const buttonEl =\n",
              "          document.querySelector('#df-1faac1f8-5987-42ae-9550-e527b77fac89 button.colab-df-convert');\n",
              "        buttonEl.style.display =\n",
              "          google.colab.kernel.accessAllowed ? 'block' : 'none';\n",
              "\n",
              "        async function convertToInteractive(key) {\n",
              "          const element = document.querySelector('#df-1faac1f8-5987-42ae-9550-e527b77fac89');\n",
              "          const dataTable =\n",
              "            await google.colab.kernel.invokeFunction('convertToInteractive',\n",
              "                                                     [key], {});\n",
              "          if (!dataTable) return;\n",
              "\n",
              "          const docLinkHtml = 'Like what you see? Visit the ' +\n",
              "            '<a target=\"_blank\" href=https://colab.research.google.com/notebooks/data_table.ipynb>data table notebook</a>'\n",
              "            + ' to learn more about interactive tables.';\n",
              "          element.innerHTML = '';\n",
              "          dataTable['output_type'] = 'display_data';\n",
              "          await google.colab.output.renderOutput(dataTable, element);\n",
              "          const docLink = document.createElement('div');\n",
              "          docLink.innerHTML = docLinkHtml;\n",
              "          element.appendChild(docLink);\n",
              "        }\n",
              "      </script>\n",
              "    </div>\n",
              "  </div>\n",
              "  "
            ]
          },
          "metadata": {},
          "execution_count": 73
        }
      ]
    },
    {
      "cell_type": "code",
      "source": [
        "apple=pd.DataFrame(apple)\n",
        "# applying ffill() method to fill the missing values\n",
        "apple=apple.ffill(axis = True)\n",
        "apple[:]"
      ],
      "metadata": {
        "colab": {
          "base_uri": "https://localhost:8080/",
          "height": 424
        },
        "id": "IdQFt9uBW3Ru",
        "outputId": "317f7214-15c9-4b74-8788-21918e87c8b2"
      },
      "execution_count": null,
      "outputs": [
        {
          "output_type": "execute_result",
          "data": {
            "text/plain": [
              "            Date        Open        High         Low       Close   Adj Close  \\\n",
              "0     2005-05-06      1.3175    1.333214    1.313929        1.33    1.138845   \n",
              "1     2005-05-09    1.331429      1.3375      1.3125    1.320357    1.130588   \n",
              "2     2005-05-10      1.3125    1.330357      1.2975    1.300714    1.113768   \n",
              "3     2005-05-11    1.257143    1.273929      1.1825    1.271786    1.088997   \n",
              "4     2005-05-12       1.265    1.271071    1.214286    1.218929    1.043737   \n",
              "...          ...         ...         ...         ...         ...         ...   \n",
              "4275  2022-04-29  161.839996  166.199997      157.25  157.649994  157.649994   \n",
              "4276  2022-05-02  156.710007  158.229996  153.270004  157.960007  157.960007   \n",
              "4277  2022-05-03  158.149994  160.710007  156.320007  159.479996  159.479996   \n",
              "4278  2022-05-04  159.669998  166.479996  159.259995  166.020004  166.020004   \n",
              "4279  2022-05-05  163.850006  164.080002  154.949997  156.770004  156.770004   \n",
              "\n",
              "          Volume  \n",
              "0      326247600  \n",
              "1      355695200  \n",
              "2      440263600  \n",
              "3     2041981200  \n",
              "4      970242000  \n",
              "...          ...  \n",
              "4275   131587100  \n",
              "4276   123055300  \n",
              "4277    88966500  \n",
              "4278   108256500  \n",
              "4279   129838200  \n",
              "\n",
              "[4280 rows x 7 columns]"
            ],
            "text/html": [
              "\n",
              "  <div id=\"df-27b80399-c19a-4632-ae66-3cf7135b5f43\">\n",
              "    <div class=\"colab-df-container\">\n",
              "      <div>\n",
              "<style scoped>\n",
              "    .dataframe tbody tr th:only-of-type {\n",
              "        vertical-align: middle;\n",
              "    }\n",
              "\n",
              "    .dataframe tbody tr th {\n",
              "        vertical-align: top;\n",
              "    }\n",
              "\n",
              "    .dataframe thead th {\n",
              "        text-align: right;\n",
              "    }\n",
              "</style>\n",
              "<table border=\"1\" class=\"dataframe\">\n",
              "  <thead>\n",
              "    <tr style=\"text-align: right;\">\n",
              "      <th></th>\n",
              "      <th>Date</th>\n",
              "      <th>Open</th>\n",
              "      <th>High</th>\n",
              "      <th>Low</th>\n",
              "      <th>Close</th>\n",
              "      <th>Adj Close</th>\n",
              "      <th>Volume</th>\n",
              "    </tr>\n",
              "  </thead>\n",
              "  <tbody>\n",
              "    <tr>\n",
              "      <th>0</th>\n",
              "      <td>2005-05-06</td>\n",
              "      <td>1.3175</td>\n",
              "      <td>1.333214</td>\n",
              "      <td>1.313929</td>\n",
              "      <td>1.33</td>\n",
              "      <td>1.138845</td>\n",
              "      <td>326247600</td>\n",
              "    </tr>\n",
              "    <tr>\n",
              "      <th>1</th>\n",
              "      <td>2005-05-09</td>\n",
              "      <td>1.331429</td>\n",
              "      <td>1.3375</td>\n",
              "      <td>1.3125</td>\n",
              "      <td>1.320357</td>\n",
              "      <td>1.130588</td>\n",
              "      <td>355695200</td>\n",
              "    </tr>\n",
              "    <tr>\n",
              "      <th>2</th>\n",
              "      <td>2005-05-10</td>\n",
              "      <td>1.3125</td>\n",
              "      <td>1.330357</td>\n",
              "      <td>1.2975</td>\n",
              "      <td>1.300714</td>\n",
              "      <td>1.113768</td>\n",
              "      <td>440263600</td>\n",
              "    </tr>\n",
              "    <tr>\n",
              "      <th>3</th>\n",
              "      <td>2005-05-11</td>\n",
              "      <td>1.257143</td>\n",
              "      <td>1.273929</td>\n",
              "      <td>1.1825</td>\n",
              "      <td>1.271786</td>\n",
              "      <td>1.088997</td>\n",
              "      <td>2041981200</td>\n",
              "    </tr>\n",
              "    <tr>\n",
              "      <th>4</th>\n",
              "      <td>2005-05-12</td>\n",
              "      <td>1.265</td>\n",
              "      <td>1.271071</td>\n",
              "      <td>1.214286</td>\n",
              "      <td>1.218929</td>\n",
              "      <td>1.043737</td>\n",
              "      <td>970242000</td>\n",
              "    </tr>\n",
              "    <tr>\n",
              "      <th>...</th>\n",
              "      <td>...</td>\n",
              "      <td>...</td>\n",
              "      <td>...</td>\n",
              "      <td>...</td>\n",
              "      <td>...</td>\n",
              "      <td>...</td>\n",
              "      <td>...</td>\n",
              "    </tr>\n",
              "    <tr>\n",
              "      <th>4275</th>\n",
              "      <td>2022-04-29</td>\n",
              "      <td>161.839996</td>\n",
              "      <td>166.199997</td>\n",
              "      <td>157.25</td>\n",
              "      <td>157.649994</td>\n",
              "      <td>157.649994</td>\n",
              "      <td>131587100</td>\n",
              "    </tr>\n",
              "    <tr>\n",
              "      <th>4276</th>\n",
              "      <td>2022-05-02</td>\n",
              "      <td>156.710007</td>\n",
              "      <td>158.229996</td>\n",
              "      <td>153.270004</td>\n",
              "      <td>157.960007</td>\n",
              "      <td>157.960007</td>\n",
              "      <td>123055300</td>\n",
              "    </tr>\n",
              "    <tr>\n",
              "      <th>4277</th>\n",
              "      <td>2022-05-03</td>\n",
              "      <td>158.149994</td>\n",
              "      <td>160.710007</td>\n",
              "      <td>156.320007</td>\n",
              "      <td>159.479996</td>\n",
              "      <td>159.479996</td>\n",
              "      <td>88966500</td>\n",
              "    </tr>\n",
              "    <tr>\n",
              "      <th>4278</th>\n",
              "      <td>2022-05-04</td>\n",
              "      <td>159.669998</td>\n",
              "      <td>166.479996</td>\n",
              "      <td>159.259995</td>\n",
              "      <td>166.020004</td>\n",
              "      <td>166.020004</td>\n",
              "      <td>108256500</td>\n",
              "    </tr>\n",
              "    <tr>\n",
              "      <th>4279</th>\n",
              "      <td>2022-05-05</td>\n",
              "      <td>163.850006</td>\n",
              "      <td>164.080002</td>\n",
              "      <td>154.949997</td>\n",
              "      <td>156.770004</td>\n",
              "      <td>156.770004</td>\n",
              "      <td>129838200</td>\n",
              "    </tr>\n",
              "  </tbody>\n",
              "</table>\n",
              "<p>4280 rows × 7 columns</p>\n",
              "</div>\n",
              "      <button class=\"colab-df-convert\" onclick=\"convertToInteractive('df-27b80399-c19a-4632-ae66-3cf7135b5f43')\"\n",
              "              title=\"Convert this dataframe to an interactive table.\"\n",
              "              style=\"display:none;\">\n",
              "        \n",
              "  <svg xmlns=\"http://www.w3.org/2000/svg\" height=\"24px\"viewBox=\"0 0 24 24\"\n",
              "       width=\"24px\">\n",
              "    <path d=\"M0 0h24v24H0V0z\" fill=\"none\"/>\n",
              "    <path d=\"M18.56 5.44l.94 2.06.94-2.06 2.06-.94-2.06-.94-.94-2.06-.94 2.06-2.06.94zm-11 1L8.5 8.5l.94-2.06 2.06-.94-2.06-.94L8.5 2.5l-.94 2.06-2.06.94zm10 10l.94 2.06.94-2.06 2.06-.94-2.06-.94-.94-2.06-.94 2.06-2.06.94z\"/><path d=\"M17.41 7.96l-1.37-1.37c-.4-.4-.92-.59-1.43-.59-.52 0-1.04.2-1.43.59L10.3 9.45l-7.72 7.72c-.78.78-.78 2.05 0 2.83L4 21.41c.39.39.9.59 1.41.59.51 0 1.02-.2 1.41-.59l7.78-7.78 2.81-2.81c.8-.78.8-2.07 0-2.86zM5.41 20L4 18.59l7.72-7.72 1.47 1.35L5.41 20z\"/>\n",
              "  </svg>\n",
              "      </button>\n",
              "      \n",
              "  <style>\n",
              "    .colab-df-container {\n",
              "      display:flex;\n",
              "      flex-wrap:wrap;\n",
              "      gap: 12px;\n",
              "    }\n",
              "\n",
              "    .colab-df-convert {\n",
              "      background-color: #E8F0FE;\n",
              "      border: none;\n",
              "      border-radius: 50%;\n",
              "      cursor: pointer;\n",
              "      display: none;\n",
              "      fill: #1967D2;\n",
              "      height: 32px;\n",
              "      padding: 0 0 0 0;\n",
              "      width: 32px;\n",
              "    }\n",
              "\n",
              "    .colab-df-convert:hover {\n",
              "      background-color: #E2EBFA;\n",
              "      box-shadow: 0px 1px 2px rgba(60, 64, 67, 0.3), 0px 1px 3px 1px rgba(60, 64, 67, 0.15);\n",
              "      fill: #174EA6;\n",
              "    }\n",
              "\n",
              "    [theme=dark] .colab-df-convert {\n",
              "      background-color: #3B4455;\n",
              "      fill: #D2E3FC;\n",
              "    }\n",
              "\n",
              "    [theme=dark] .colab-df-convert:hover {\n",
              "      background-color: #434B5C;\n",
              "      box-shadow: 0px 1px 3px 1px rgba(0, 0, 0, 0.15);\n",
              "      filter: drop-shadow(0px 1px 2px rgba(0, 0, 0, 0.3));\n",
              "      fill: #FFFFFF;\n",
              "    }\n",
              "  </style>\n",
              "\n",
              "      <script>\n",
              "        const buttonEl =\n",
              "          document.querySelector('#df-27b80399-c19a-4632-ae66-3cf7135b5f43 button.colab-df-convert');\n",
              "        buttonEl.style.display =\n",
              "          google.colab.kernel.accessAllowed ? 'block' : 'none';\n",
              "\n",
              "        async function convertToInteractive(key) {\n",
              "          const element = document.querySelector('#df-27b80399-c19a-4632-ae66-3cf7135b5f43');\n",
              "          const dataTable =\n",
              "            await google.colab.kernel.invokeFunction('convertToInteractive',\n",
              "                                                     [key], {});\n",
              "          if (!dataTable) return;\n",
              "\n",
              "          const docLinkHtml = 'Like what you see? Visit the ' +\n",
              "            '<a target=\"_blank\" href=https://colab.research.google.com/notebooks/data_table.ipynb>data table notebook</a>'\n",
              "            + ' to learn more about interactive tables.';\n",
              "          element.innerHTML = '';\n",
              "          dataTable['output_type'] = 'display_data';\n",
              "          await google.colab.output.renderOutput(dataTable, element);\n",
              "          const docLink = document.createElement('div');\n",
              "          docLink.innerHTML = docLinkHtml;\n",
              "          element.appendChild(docLink);\n",
              "        }\n",
              "      </script>\n",
              "    </div>\n",
              "  </div>\n",
              "  "
            ]
          },
          "metadata": {},
          "execution_count": 74
        }
      ]
    },
    {
      "cell_type": "code",
      "source": [
        "#defining up & down signals\n",
        "close=apple['Close'].transform(lambda x:x.shift(1)<x)\n",
        "apple['Prediction']=close*1\n",
        "\n",
        "#data cleaning\n",
        "apple=apple.dropna()\n",
        "\n",
        "apple_X=apple.drop(columns=['Prediction','Date'])\n",
        "apple_y=apple['Prediction']\n",
        "\n",
        "# defining train-test data set\n",
        "X_train = apple_X[:int(apple_X.shape[0]*0.7)]\n",
        "X_test = apple_X[int(apple_X.shape[0]*0.7):]\n",
        "y_train = apple_y[:int(apple_X.shape[0]*0.7)]\n",
        "y_test = apple_y[int(apple_X.shape[0]*0.7):]"
      ],
      "metadata": {
        "id": "zXVxfz_TaLGB"
      },
      "execution_count": null,
      "outputs": []
    },
    {
      "cell_type": "code",
      "source": [
        "#Scaling\n",
        "from sklearn.preprocessing import StandardScaler\n",
        "sc=StandardScaler()\n",
        "X_train_std=sc.fit_transform(X_train)\n",
        "X_test_std=sc.transform(X_test)\n",
        "\n",
        "#PCA application\n",
        "from sklearn.decomposition import PCA\n",
        "pca = PCA(n_components=0.95)\n",
        "X_train_pca = pca.fit_transform(X_train_std)\n",
        "X_test_pca=pca.transform(X_test_std)"
      ],
      "metadata": {
        "id": "R1mcZ3x0aT1j"
      },
      "execution_count": null,
      "outputs": []
    },
    {
      "cell_type": "markdown",
      "source": [
        "**LSTM**"
      ],
      "metadata": {
        "id": "b-8QZDG7vbfg"
      }
    },
    {
      "cell_type": "code",
      "source": [
        "#importing the packages\n",
        "import pandas as pd\n",
        "import numpy as np\n",
        "import matplotlib.pyplot as plt\n",
        "from matplotlib.pylab import rcParams\n",
        "from sklearn.preprocessing import MinMaxScaler\n",
        "#used for setting the output figure size\n",
        "rcParams['figure.figsize'] = 20,10\n",
        "#to normalize the given input data\n",
        "scaler = MinMaxScaler(feature_range=(0, 1))\n",
        "#to read input data set (place the file name inside  ' ') as shown below\n",
        "todataframe = apple\n",
        "#to print the first few data in the data set\n",
        "todataframe.head(10)"
      ],
      "metadata": {
        "colab": {
          "base_uri": "https://localhost:8080/",
          "height": 363
        },
        "id": "k68KGIzbva4k",
        "outputId": "efab8346-5c8a-4e0c-a210-d842f497a5f9"
      },
      "execution_count": null,
      "outputs": [
        {
          "output_type": "execute_result",
          "data": {
            "text/plain": [
              "         Date      Open      High       Low     Close Adj Close      Volume  \\\n",
              "0  2005-05-06    1.3175  1.333214  1.313929      1.33  1.138845   326247600   \n",
              "1  2005-05-09  1.331429    1.3375    1.3125  1.320357  1.130588   355695200   \n",
              "2  2005-05-10    1.3125  1.330357    1.2975  1.300714  1.113768   440263600   \n",
              "3  2005-05-11  1.257143  1.273929    1.1825  1.271786  1.088997  2041981200   \n",
              "4  2005-05-12     1.265  1.271071  1.214286  1.218929  1.043737   970242000   \n",
              "5  2005-05-13  1.221429  1.258214  1.216786  1.241786  1.063309   702713200   \n",
              "6  2005-05-16  1.234286     1.275  1.233214  1.269643  1.087162   474294800   \n",
              "7  2005-05-17     1.255  1.266429  1.233571  1.262857  1.081352   588344400   \n",
              "8  2005-05-18  1.266071  1.341429  1.249643      1.28  1.096031   636722800   \n",
              "9  2005-05-19  1.277857  1.345714  1.277857  1.341071  1.148324   793161600   \n",
              "\n",
              "   Prediction  \n",
              "0           0  \n",
              "1           0  \n",
              "2           0  \n",
              "3           0  \n",
              "4           0  \n",
              "5           1  \n",
              "6           1  \n",
              "7           0  \n",
              "8           1  \n",
              "9           1  "
            ],
            "text/html": [
              "\n",
              "  <div id=\"df-5ffaab9e-d6f6-4a8e-8067-afe55eb70313\">\n",
              "    <div class=\"colab-df-container\">\n",
              "      <div>\n",
              "<style scoped>\n",
              "    .dataframe tbody tr th:only-of-type {\n",
              "        vertical-align: middle;\n",
              "    }\n",
              "\n",
              "    .dataframe tbody tr th {\n",
              "        vertical-align: top;\n",
              "    }\n",
              "\n",
              "    .dataframe thead th {\n",
              "        text-align: right;\n",
              "    }\n",
              "</style>\n",
              "<table border=\"1\" class=\"dataframe\">\n",
              "  <thead>\n",
              "    <tr style=\"text-align: right;\">\n",
              "      <th></th>\n",
              "      <th>Date</th>\n",
              "      <th>Open</th>\n",
              "      <th>High</th>\n",
              "      <th>Low</th>\n",
              "      <th>Close</th>\n",
              "      <th>Adj Close</th>\n",
              "      <th>Volume</th>\n",
              "      <th>Prediction</th>\n",
              "    </tr>\n",
              "  </thead>\n",
              "  <tbody>\n",
              "    <tr>\n",
              "      <th>0</th>\n",
              "      <td>2005-05-06</td>\n",
              "      <td>1.3175</td>\n",
              "      <td>1.333214</td>\n",
              "      <td>1.313929</td>\n",
              "      <td>1.33</td>\n",
              "      <td>1.138845</td>\n",
              "      <td>326247600</td>\n",
              "      <td>0</td>\n",
              "    </tr>\n",
              "    <tr>\n",
              "      <th>1</th>\n",
              "      <td>2005-05-09</td>\n",
              "      <td>1.331429</td>\n",
              "      <td>1.3375</td>\n",
              "      <td>1.3125</td>\n",
              "      <td>1.320357</td>\n",
              "      <td>1.130588</td>\n",
              "      <td>355695200</td>\n",
              "      <td>0</td>\n",
              "    </tr>\n",
              "    <tr>\n",
              "      <th>2</th>\n",
              "      <td>2005-05-10</td>\n",
              "      <td>1.3125</td>\n",
              "      <td>1.330357</td>\n",
              "      <td>1.2975</td>\n",
              "      <td>1.300714</td>\n",
              "      <td>1.113768</td>\n",
              "      <td>440263600</td>\n",
              "      <td>0</td>\n",
              "    </tr>\n",
              "    <tr>\n",
              "      <th>3</th>\n",
              "      <td>2005-05-11</td>\n",
              "      <td>1.257143</td>\n",
              "      <td>1.273929</td>\n",
              "      <td>1.1825</td>\n",
              "      <td>1.271786</td>\n",
              "      <td>1.088997</td>\n",
              "      <td>2041981200</td>\n",
              "      <td>0</td>\n",
              "    </tr>\n",
              "    <tr>\n",
              "      <th>4</th>\n",
              "      <td>2005-05-12</td>\n",
              "      <td>1.265</td>\n",
              "      <td>1.271071</td>\n",
              "      <td>1.214286</td>\n",
              "      <td>1.218929</td>\n",
              "      <td>1.043737</td>\n",
              "      <td>970242000</td>\n",
              "      <td>0</td>\n",
              "    </tr>\n",
              "    <tr>\n",
              "      <th>5</th>\n",
              "      <td>2005-05-13</td>\n",
              "      <td>1.221429</td>\n",
              "      <td>1.258214</td>\n",
              "      <td>1.216786</td>\n",
              "      <td>1.241786</td>\n",
              "      <td>1.063309</td>\n",
              "      <td>702713200</td>\n",
              "      <td>1</td>\n",
              "    </tr>\n",
              "    <tr>\n",
              "      <th>6</th>\n",
              "      <td>2005-05-16</td>\n",
              "      <td>1.234286</td>\n",
              "      <td>1.275</td>\n",
              "      <td>1.233214</td>\n",
              "      <td>1.269643</td>\n",
              "      <td>1.087162</td>\n",
              "      <td>474294800</td>\n",
              "      <td>1</td>\n",
              "    </tr>\n",
              "    <tr>\n",
              "      <th>7</th>\n",
              "      <td>2005-05-17</td>\n",
              "      <td>1.255</td>\n",
              "      <td>1.266429</td>\n",
              "      <td>1.233571</td>\n",
              "      <td>1.262857</td>\n",
              "      <td>1.081352</td>\n",
              "      <td>588344400</td>\n",
              "      <td>0</td>\n",
              "    </tr>\n",
              "    <tr>\n",
              "      <th>8</th>\n",
              "      <td>2005-05-18</td>\n",
              "      <td>1.266071</td>\n",
              "      <td>1.341429</td>\n",
              "      <td>1.249643</td>\n",
              "      <td>1.28</td>\n",
              "      <td>1.096031</td>\n",
              "      <td>636722800</td>\n",
              "      <td>1</td>\n",
              "    </tr>\n",
              "    <tr>\n",
              "      <th>9</th>\n",
              "      <td>2005-05-19</td>\n",
              "      <td>1.277857</td>\n",
              "      <td>1.345714</td>\n",
              "      <td>1.277857</td>\n",
              "      <td>1.341071</td>\n",
              "      <td>1.148324</td>\n",
              "      <td>793161600</td>\n",
              "      <td>1</td>\n",
              "    </tr>\n",
              "  </tbody>\n",
              "</table>\n",
              "</div>\n",
              "      <button class=\"colab-df-convert\" onclick=\"convertToInteractive('df-5ffaab9e-d6f6-4a8e-8067-afe55eb70313')\"\n",
              "              title=\"Convert this dataframe to an interactive table.\"\n",
              "              style=\"display:none;\">\n",
              "        \n",
              "  <svg xmlns=\"http://www.w3.org/2000/svg\" height=\"24px\"viewBox=\"0 0 24 24\"\n",
              "       width=\"24px\">\n",
              "    <path d=\"M0 0h24v24H0V0z\" fill=\"none\"/>\n",
              "    <path d=\"M18.56 5.44l.94 2.06.94-2.06 2.06-.94-2.06-.94-.94-2.06-.94 2.06-2.06.94zm-11 1L8.5 8.5l.94-2.06 2.06-.94-2.06-.94L8.5 2.5l-.94 2.06-2.06.94zm10 10l.94 2.06.94-2.06 2.06-.94-2.06-.94-.94-2.06-.94 2.06-2.06.94z\"/><path d=\"M17.41 7.96l-1.37-1.37c-.4-.4-.92-.59-1.43-.59-.52 0-1.04.2-1.43.59L10.3 9.45l-7.72 7.72c-.78.78-.78 2.05 0 2.83L4 21.41c.39.39.9.59 1.41.59.51 0 1.02-.2 1.41-.59l7.78-7.78 2.81-2.81c.8-.78.8-2.07 0-2.86zM5.41 20L4 18.59l7.72-7.72 1.47 1.35L5.41 20z\"/>\n",
              "  </svg>\n",
              "      </button>\n",
              "      \n",
              "  <style>\n",
              "    .colab-df-container {\n",
              "      display:flex;\n",
              "      flex-wrap:wrap;\n",
              "      gap: 12px;\n",
              "    }\n",
              "\n",
              "    .colab-df-convert {\n",
              "      background-color: #E8F0FE;\n",
              "      border: none;\n",
              "      border-radius: 50%;\n",
              "      cursor: pointer;\n",
              "      display: none;\n",
              "      fill: #1967D2;\n",
              "      height: 32px;\n",
              "      padding: 0 0 0 0;\n",
              "      width: 32px;\n",
              "    }\n",
              "\n",
              "    .colab-df-convert:hover {\n",
              "      background-color: #E2EBFA;\n",
              "      box-shadow: 0px 1px 2px rgba(60, 64, 67, 0.3), 0px 1px 3px 1px rgba(60, 64, 67, 0.15);\n",
              "      fill: #174EA6;\n",
              "    }\n",
              "\n",
              "    [theme=dark] .colab-df-convert {\n",
              "      background-color: #3B4455;\n",
              "      fill: #D2E3FC;\n",
              "    }\n",
              "\n",
              "    [theme=dark] .colab-df-convert:hover {\n",
              "      background-color: #434B5C;\n",
              "      box-shadow: 0px 1px 3px 1px rgba(0, 0, 0, 0.15);\n",
              "      filter: drop-shadow(0px 1px 2px rgba(0, 0, 0, 0.3));\n",
              "      fill: #FFFFFF;\n",
              "    }\n",
              "  </style>\n",
              "\n",
              "      <script>\n",
              "        const buttonEl =\n",
              "          document.querySelector('#df-5ffaab9e-d6f6-4a8e-8067-afe55eb70313 button.colab-df-convert');\n",
              "        buttonEl.style.display =\n",
              "          google.colab.kernel.accessAllowed ? 'block' : 'none';\n",
              "\n",
              "        async function convertToInteractive(key) {\n",
              "          const element = document.querySelector('#df-5ffaab9e-d6f6-4a8e-8067-afe55eb70313');\n",
              "          const dataTable =\n",
              "            await google.colab.kernel.invokeFunction('convertToInteractive',\n",
              "                                                     [key], {});\n",
              "          if (!dataTable) return;\n",
              "\n",
              "          const docLinkHtml = 'Like what you see? Visit the ' +\n",
              "            '<a target=\"_blank\" href=https://colab.research.google.com/notebooks/data_table.ipynb>data table notebook</a>'\n",
              "            + ' to learn more about interactive tables.';\n",
              "          element.innerHTML = '';\n",
              "          dataTable['output_type'] = 'display_data';\n",
              "          await google.colab.output.renderOutput(dataTable, element);\n",
              "          const docLink = document.createElement('div');\n",
              "          docLink.innerHTML = docLinkHtml;\n",
              "          element.appendChild(docLink);\n",
              "        }\n",
              "      </script>\n",
              "    </div>\n",
              "  </div>\n",
              "  "
            ]
          },
          "metadata": {},
          "execution_count": 77
        }
      ]
    },
    {
      "cell_type": "code",
      "source": [
        "# Extracting the closing prices of each day\n",
        "FullData=apple[['Close']].values\n",
        "print(FullData[0:10])\n",
        " \n",
        "# Feature Scaling for fast training of neural networks\n",
        "from sklearn.preprocessing import StandardScaler, MinMaxScaler\n",
        " \n",
        "# Choosing between Standardization or normalization\n",
        "#sc = StandardScaler()\n",
        "sc=MinMaxScaler()\n",
        " \n",
        "DataScaler = sc.fit(FullData)\n",
        "X=DataScaler.transform(FullData)\n",
        "#X=FullData\n",
        " \n",
        "print('### After Normalization ###')\n",
        "X[0:5]"
      ],
      "metadata": {
        "colab": {
          "base_uri": "https://localhost:8080/"
        },
        "id": "Vqb35NQpzASW",
        "outputId": "3d2f8208-9ded-4f86-a831-4b3c6b248718"
      },
      "execution_count": null,
      "outputs": [
        {
          "output_type": "stream",
          "name": "stdout",
          "text": [
            "[[1.33]\n",
            " [1.320357]\n",
            " [1.300714]\n",
            " [1.271786]\n",
            " [1.218929]\n",
            " [1.241786]\n",
            " [1.269643]\n",
            " [1.262857]\n",
            " [1.28]\n",
            " [1.341071]]\n",
            "### After Normalization ###\n"
          ]
        },
        {
          "output_type": "execute_result",
          "data": {
            "text/plain": [
              "array([[0.00061436],\n",
              "       [0.00056102],\n",
              "       [0.00045237],\n",
              "       [0.00029237],\n",
              "       [0.        ]])"
            ]
          },
          "metadata": {},
          "execution_count": 78
        }
      ]
    },
    {
      "cell_type": "markdown",
      "source": [
        "**Preparing the data for LSTM**"
      ],
      "metadata": {
        "id": "XUT5FN0dziwY"
      }
    },
    {
      "cell_type": "code",
      "source": [
        "#split into samples\n",
        "X_samples = list()\n",
        "y_samples = list()\n",
        "\n",
        "NumerOfRows = len(X)\n",
        "TimeSteps=10  # next day's Price Prediction is based on last how many past day's prices\n",
        "\n",
        "# Iterate thru the values to create combinations\n",
        "for i in range(TimeSteps , NumerOfRows , 1):\n",
        "    x_sample = X[i-TimeSteps:i]\n",
        "    y_sample = X[i]\n",
        "    X_samples.append(x_sample)\n",
        "    y_samples.append(y_sample)\n",
        "\n",
        "################################################\n",
        "# Reshape the Input as a 3D (number of samples, Time Steps, Features)\n",
        "X_data=np.array(X_samples)\n",
        "X_data=X_data.reshape(X_data.shape[0],X_data.shape[1], 1)\n",
        "print('\\n#### Input Data shape ####')\n",
        "print(X_data.shape)\n",
        "\n",
        "# We do not reshape y as a 3D data  as it is supposed to be a single column only\n",
        "y_data=np.array(y_samples)\n",
        "y_data=y_data.reshape(y_data.shape[0], 1)\n",
        "print('\\n#### Output Data shape ####')\n",
        "print(y_data.shape)"
      ],
      "metadata": {
        "colab": {
          "base_uri": "https://localhost:8080/"
        },
        "id": "zsdw6a3TzYCZ",
        "outputId": "a1fca588-0a82-41a7-98df-94bf3f7bede9"
      },
      "execution_count": null,
      "outputs": [
        {
          "output_type": "stream",
          "name": "stdout",
          "text": [
            "\n",
            "#### Input Data shape ####\n",
            "(4270, 10, 1)\n",
            "\n",
            "#### Output Data shape ####\n",
            "(4270, 1)\n"
          ]
        }
      ]
    },
    {
      "cell_type": "markdown",
      "source": [
        "**Visualizing the input and output data for LSTM**"
      ],
      "metadata": {
        "id": "oDh7qZln0yZG"
      }
    },
    {
      "cell_type": "code",
      "source": [
        "# Visualizing the input and output being sent to the LSTM model\n",
        "for inp, out in zip(X_train[0:2], y_train[0:2]):\n",
        "    print(inp,'--', out)"
      ],
      "metadata": {
        "colab": {
          "base_uri": "https://localhost:8080/"
        },
        "id": "6xrqMYDK0rbL",
        "outputId": "9769c8ab-e6e1-4b04-e05c-654351dbeaf0"
      },
      "execution_count": null,
      "outputs": [
        {
          "output_type": "stream",
          "name": "stdout",
          "text": [
            "Open -- 0\n",
            "High -- 0\n"
          ]
        }
      ]
    },
    {
      "cell_type": "markdown",
      "source": [
        "**Creating the Deep Learning LSTM model**"
      ],
      "metadata": {
        "id": "6ekYKUUJ1T0J"
      }
    },
    {
      "cell_type": "code",
      "source": [
        "#split into samples\n",
        "X_samples = list()\n",
        "y_samples = list()\n",
        "\n",
        "NumerOfRows = len(X)\n",
        "TimeSteps=10  # next day's Price Prediction is based on last how many past day's prices\n",
        "\n",
        "# Iterate thru the values to create combinations\n",
        "for i in range(TimeSteps , NumerOfRows , 1):\n",
        "    x_sample = X[i-TimeSteps:i]\n",
        "    y_sample = X[i]\n",
        "    X_samples.append(x_sample)\n",
        "    y_samples.append(y_sample)\n",
        "\n",
        "################################################\n",
        "# Reshape the Input as a 3D (number of samples, Time Steps, Features)\n",
        "X_data=np.array(X_samples)\n",
        "X_data=X_data.reshape(X_data.shape[0],X_data.shape[1], 1)\n",
        "print('\\n#### Input Data shape ####')\n",
        "print(X_data.shape)\n",
        "\n",
        "# We do not reshape y as a 3D data  as it is supposed to be a single column only\n",
        "y_data=np.array(y_samples)\n",
        "y_data=y_data.reshape(y_data.shape[0], 1)\n",
        "print('\\n#### Output Data shape ####')\n",
        "print(y_data.shape)"
      ],
      "metadata": {
        "colab": {
          "base_uri": "https://localhost:8080/"
        },
        "id": "hAE8pYZA-f4Y",
        "outputId": "e887c7bd-14fe-48d7-ad0f-ddb68017ae8b"
      },
      "execution_count": null,
      "outputs": [
        {
          "output_type": "stream",
          "name": "stdout",
          "text": [
            "\n",
            "#### Input Data shape ####\n",
            "(4270, 10, 1)\n",
            "\n",
            "#### Output Data shape ####\n",
            "(4270, 1)\n"
          ]
        }
      ]
    },
    {
      "cell_type": "code",
      "source": [
        "# Choosing the number of testing data records\n",
        "TestingRecords=980\n",
        " \n",
        "# Splitting the data into train and test\n",
        "X_train=X_data[:-TestingRecords]\n",
        "X_test=X_data[-TestingRecords:]\n",
        "y_train=y_data[:-TestingRecords]\n",
        "y_test=y_data[-TestingRecords:]\n",
        " \n",
        "############################################\n",
        " \n",
        "# Printing the shape of training and testing\n",
        "print('\\n#### Training Data shape ####')\n",
        "print(X_train.shape)\n",
        "print(y_train.shape)\n",
        "print('\\n#### Testing Data shape ####')\n",
        "print(X_test.shape)\n",
        "print(y_test.shape)"
      ],
      "metadata": {
        "colab": {
          "base_uri": "https://localhost:8080/"
        },
        "id": "TFjvotmU-9_t",
        "outputId": "0fcfeb4e-bfc2-4ea9-fba1-610bd9819c91"
      },
      "execution_count": null,
      "outputs": [
        {
          "output_type": "stream",
          "name": "stdout",
          "text": [
            "\n",
            "#### Training Data shape ####\n",
            "(3290, 10, 1)\n",
            "(3290, 1)\n",
            "\n",
            "#### Testing Data shape ####\n",
            "(980, 10, 1)\n",
            "(980, 1)\n"
          ]
        }
      ]
    },
    {
      "cell_type": "code",
      "source": [
        "# Defining Input shapes for LSTM\n",
        "TimeSteps=X_train.shape[1]\n",
        "TotalFeatures=X_train.shape[2]\n",
        "print(\"Number of TimeSteps:\", TimeSteps)\n",
        "print(\"Number of Features:\", TotalFeatures)"
      ],
      "metadata": {
        "colab": {
          "base_uri": "https://localhost:8080/"
        },
        "id": "EWbAnVtY1OR9",
        "outputId": "252d6f35-a83b-48ed-88c4-27e9fa159304"
      },
      "execution_count": null,
      "outputs": [
        {
          "output_type": "stream",
          "name": "stdout",
          "text": [
            "Number of TimeSteps: 10\n",
            "Number of Features: 1\n"
          ]
        }
      ]
    },
    {
      "cell_type": "code",
      "source": [
        "# Importing the Keras libraries and packages\n",
        "from keras.models import Sequential\n",
        "from keras.layers import Dense\n",
        "from keras.layers import LSTM\n",
        " \n",
        "# Initialising the RNN\n",
        "regressor = Sequential()\n",
        " \n",
        "# Adding the First input hidden layer and the LSTM layer\n",
        "# return_sequences = True, means the output of every time step to be shared with hidden next layer\n",
        "regressor.add(LSTM(units = 10, activation = 'relu', input_shape = (TimeSteps, TotalFeatures), return_sequences=True))\n",
        " \n",
        "# Adding the Second Second hidden layer and the LSTM layer\n",
        "regressor.add(LSTM(units = 5, activation = 'relu', input_shape = (TimeSteps, TotalFeatures), return_sequences=True))\n",
        " \n",
        "# Adding the Second Third hidden layer and the LSTM layer\n",
        "regressor.add(LSTM(units = 5, activation = 'relu', return_sequences=False ))\n",
        " \n",
        " \n",
        "# Adding the output layer\n",
        "regressor.add(Dense(units = 1))\n",
        " \n",
        "# Compiling the RNN\n",
        "regressor.compile(optimizer = 'adam', loss = 'mean_squared_error')\n",
        " \n",
        "##################################################\n",
        " \n",
        "import time\n",
        "# Measuring the time taken by the model to train\n",
        "StartTime=time.time()\n",
        " \n",
        "# Fitting the RNN to the Training set\n",
        "regressor.fit(X_train, y_train, batch_size = 5, epochs = 100)\n",
        " \n",
        "EndTime=time.time()\n",
        "print(\"## Total Time Taken: \", round((EndTime-StartTime)/60), 'Minutes ##')"
      ],
      "metadata": {
        "colab": {
          "base_uri": "https://localhost:8080/"
        },
        "id": "l1O4avta1ieZ",
        "outputId": "99a402aa-f84d-4772-e761-b59904ef3860"
      },
      "execution_count": null,
      "outputs": [
        {
          "output_type": "stream",
          "name": "stdout",
          "text": [
            "Epoch 1/100\n",
            "658/658 [==============================] - 12s 13ms/step - loss: 2.0103e-04\n",
            "Epoch 2/100\n",
            "658/658 [==============================] - 11s 16ms/step - loss: 2.5993e-05\n",
            "Epoch 3/100\n",
            "658/658 [==============================] - 10s 15ms/step - loss: 2.6684e-05\n",
            "Epoch 4/100\n",
            "658/658 [==============================] - 10s 15ms/step - loss: 2.6560e-05\n",
            "Epoch 5/100\n",
            "658/658 [==============================] - 7s 11ms/step - loss: 2.4546e-05\n",
            "Epoch 6/100\n",
            "658/658 [==============================] - 5s 8ms/step - loss: 2.8055e-05\n",
            "Epoch 7/100\n",
            "658/658 [==============================] - 5s 8ms/step - loss: 2.4561e-05\n",
            "Epoch 8/100\n",
            "658/658 [==============================] - 5s 8ms/step - loss: 2.2821e-05\n",
            "Epoch 9/100\n",
            "658/658 [==============================] - 6s 8ms/step - loss: 2.3613e-05\n",
            "Epoch 10/100\n",
            "658/658 [==============================] - 5s 8ms/step - loss: 2.4902e-05\n",
            "Epoch 11/100\n",
            "658/658 [==============================] - 5s 8ms/step - loss: 2.4988e-05\n",
            "Epoch 12/100\n",
            "658/658 [==============================] - 5s 8ms/step - loss: 2.3580e-05\n",
            "Epoch 13/100\n",
            "658/658 [==============================] - 5s 8ms/step - loss: 2.1610e-05\n",
            "Epoch 14/100\n",
            "658/658 [==============================] - 5s 8ms/step - loss: 2.3035e-05\n",
            "Epoch 15/100\n",
            "658/658 [==============================] - 5s 8ms/step - loss: 2.2560e-05\n",
            "Epoch 16/100\n",
            "658/658 [==============================] - 5s 8ms/step - loss: 2.0359e-05\n",
            "Epoch 17/100\n",
            "658/658 [==============================] - 5s 8ms/step - loss: 2.1051e-05\n",
            "Epoch 18/100\n",
            "658/658 [==============================] - 5s 8ms/step - loss: 1.9533e-05\n",
            "Epoch 19/100\n",
            "658/658 [==============================] - 5s 8ms/step - loss: 2.2084e-05\n",
            "Epoch 20/100\n",
            "658/658 [==============================] - 5s 8ms/step - loss: 1.7705e-05\n",
            "Epoch 21/100\n",
            "658/658 [==============================] - 5s 8ms/step - loss: 2.0448e-05\n",
            "Epoch 22/100\n",
            "658/658 [==============================] - 6s 9ms/step - loss: 1.8651e-05\n",
            "Epoch 23/100\n",
            "658/658 [==============================] - 5s 8ms/step - loss: 1.9603e-05\n",
            "Epoch 24/100\n",
            "658/658 [==============================] - 5s 8ms/step - loss: 1.7798e-05\n",
            "Epoch 25/100\n",
            "658/658 [==============================] - 5s 8ms/step - loss: 1.6420e-05\n",
            "Epoch 26/100\n",
            "658/658 [==============================] - 5s 8ms/step - loss: 1.7166e-05\n",
            "Epoch 27/100\n",
            "658/658 [==============================] - 5s 8ms/step - loss: 1.7921e-05\n",
            "Epoch 28/100\n",
            "658/658 [==============================] - 5s 8ms/step - loss: 1.6844e-05\n",
            "Epoch 29/100\n",
            "658/658 [==============================] - 5s 8ms/step - loss: 1.6445e-05\n",
            "Epoch 30/100\n",
            "658/658 [==============================] - 5s 8ms/step - loss: 1.4986e-05\n",
            "Epoch 31/100\n",
            "658/658 [==============================] - 5s 8ms/step - loss: 1.5448e-05\n",
            "Epoch 32/100\n",
            "658/658 [==============================] - 5s 8ms/step - loss: 1.5167e-05\n",
            "Epoch 33/100\n",
            "658/658 [==============================] - 5s 8ms/step - loss: 1.4344e-05\n",
            "Epoch 34/100\n",
            "658/658 [==============================] - 5s 8ms/step - loss: 1.2702e-05\n",
            "Epoch 35/100\n",
            "658/658 [==============================] - 5s 8ms/step - loss: 1.1546e-05\n",
            "Epoch 36/100\n",
            "658/658 [==============================] - 5s 8ms/step - loss: 1.2587e-05\n",
            "Epoch 37/100\n",
            "658/658 [==============================] - 5s 8ms/step - loss: 1.1823e-05\n",
            "Epoch 38/100\n",
            "658/658 [==============================] - 5s 8ms/step - loss: 1.1896e-05\n",
            "Epoch 39/100\n",
            "658/658 [==============================] - 5s 8ms/step - loss: 1.2735e-05\n",
            "Epoch 40/100\n",
            "658/658 [==============================] - 5s 8ms/step - loss: 1.0395e-05\n",
            "Epoch 41/100\n",
            "658/658 [==============================] - 5s 8ms/step - loss: 1.1185e-05\n",
            "Epoch 42/100\n",
            "658/658 [==============================] - 6s 9ms/step - loss: 1.0689e-05\n",
            "Epoch 43/100\n",
            "658/658 [==============================] - 5s 8ms/step - loss: 1.0011e-05\n",
            "Epoch 44/100\n",
            "658/658 [==============================] - 5s 8ms/step - loss: 9.6893e-06\n",
            "Epoch 45/100\n",
            "658/658 [==============================] - 5s 8ms/step - loss: 1.0017e-05\n",
            "Epoch 46/100\n",
            "658/658 [==============================] - 5s 8ms/step - loss: 9.1484e-06\n",
            "Epoch 47/100\n",
            "658/658 [==============================] - 5s 8ms/step - loss: 9.7180e-06\n",
            "Epoch 48/100\n",
            "658/658 [==============================] - 5s 8ms/step - loss: 1.0330e-05\n",
            "Epoch 49/100\n",
            "658/658 [==============================] - 5s 8ms/step - loss: 8.1174e-06\n",
            "Epoch 50/100\n",
            "658/658 [==============================] - 5s 8ms/step - loss: 9.4411e-06\n",
            "Epoch 51/100\n",
            "658/658 [==============================] - 5s 8ms/step - loss: 9.5231e-06\n",
            "Epoch 52/100\n",
            "658/658 [==============================] - 5s 8ms/step - loss: 8.6168e-06\n",
            "Epoch 53/100\n",
            "658/658 [==============================] - 5s 8ms/step - loss: 8.7626e-06\n",
            "Epoch 54/100\n",
            "658/658 [==============================] - 5s 8ms/step - loss: 7.6320e-06\n",
            "Epoch 55/100\n",
            "658/658 [==============================] - 5s 8ms/step - loss: 8.3612e-06\n",
            "Epoch 56/100\n",
            "658/658 [==============================] - 5s 8ms/step - loss: 7.3642e-06\n",
            "Epoch 57/100\n",
            "658/658 [==============================] - 5s 8ms/step - loss: 7.9098e-06\n",
            "Epoch 58/100\n",
            "658/658 [==============================] - 5s 8ms/step - loss: 8.9284e-06\n",
            "Epoch 59/100\n",
            "658/658 [==============================] - 5s 8ms/step - loss: 6.9500e-06\n",
            "Epoch 60/100\n",
            "658/658 [==============================] - 5s 8ms/step - loss: 7.2182e-06\n",
            "Epoch 61/100\n",
            "658/658 [==============================] - 5s 8ms/step - loss: 7.1859e-06\n",
            "Epoch 62/100\n",
            "658/658 [==============================] - 6s 9ms/step - loss: 6.6377e-06\n",
            "Epoch 63/100\n",
            "658/658 [==============================] - 5s 8ms/step - loss: 7.1099e-06\n",
            "Epoch 64/100\n",
            "658/658 [==============================] - 5s 8ms/step - loss: 6.5636e-06\n",
            "Epoch 65/100\n",
            "658/658 [==============================] - 6s 8ms/step - loss: 6.2659e-06\n",
            "Epoch 66/100\n",
            "658/658 [==============================] - 5s 8ms/step - loss: 5.5655e-06\n",
            "Epoch 67/100\n",
            "658/658 [==============================] - 5s 8ms/step - loss: 5.8069e-06\n",
            "Epoch 68/100\n",
            "658/658 [==============================] - 6s 8ms/step - loss: 6.2317e-06\n",
            "Epoch 69/100\n",
            "658/658 [==============================] - 6s 9ms/step - loss: 5.2147e-06\n",
            "Epoch 70/100\n",
            "658/658 [==============================] - 5s 8ms/step - loss: 6.4089e-06\n",
            "Epoch 71/100\n",
            "658/658 [==============================] - 5s 8ms/step - loss: 5.5978e-06\n",
            "Epoch 72/100\n",
            "658/658 [==============================] - 5s 8ms/step - loss: 5.0068e-06\n",
            "Epoch 73/100\n",
            "658/658 [==============================] - 5s 8ms/step - loss: 5.3515e-06\n",
            "Epoch 74/100\n",
            "658/658 [==============================] - 5s 8ms/step - loss: 5.2345e-06\n",
            "Epoch 75/100\n",
            "658/658 [==============================] - 5s 8ms/step - loss: 5.6074e-06\n",
            "Epoch 76/100\n",
            "658/658 [==============================] - 6s 8ms/step - loss: 5.4348e-06\n",
            "Epoch 77/100\n",
            "658/658 [==============================] - 6s 8ms/step - loss: 4.9061e-06\n",
            "Epoch 78/100\n",
            "658/658 [==============================] - 5s 8ms/step - loss: 5.3018e-06\n",
            "Epoch 79/100\n",
            "658/658 [==============================] - 5s 8ms/step - loss: 4.6395e-06\n",
            "Epoch 80/100\n",
            "658/658 [==============================] - 5s 8ms/step - loss: 4.8482e-06\n",
            "Epoch 81/100\n",
            "658/658 [==============================] - 5s 8ms/step - loss: 4.5465e-06\n",
            "Epoch 82/100\n",
            "658/658 [==============================] - 5s 8ms/step - loss: 4.8060e-06\n",
            "Epoch 83/100\n",
            "658/658 [==============================] - 5s 8ms/step - loss: 5.2334e-06\n",
            "Epoch 84/100\n",
            "658/658 [==============================] - 6s 9ms/step - loss: 4.8238e-06\n",
            "Epoch 85/100\n",
            "658/658 [==============================] - 6s 8ms/step - loss: 4.5091e-06\n",
            "Epoch 86/100\n",
            "658/658 [==============================] - 6s 8ms/step - loss: 4.7641e-06\n",
            "Epoch 87/100\n",
            "658/658 [==============================] - 6s 9ms/step - loss: 5.2335e-06\n",
            "Epoch 88/100\n",
            "658/658 [==============================] - 5s 8ms/step - loss: 4.9316e-06\n",
            "Epoch 89/100\n",
            "658/658 [==============================] - 5s 8ms/step - loss: 5.0936e-06\n",
            "Epoch 90/100\n",
            "658/658 [==============================] - 5s 8ms/step - loss: 5.2561e-06\n",
            "Epoch 91/100\n",
            "658/658 [==============================] - 5s 8ms/step - loss: 4.4330e-06\n",
            "Epoch 92/100\n",
            "658/658 [==============================] - 5s 8ms/step - loss: 4.6051e-06\n",
            "Epoch 93/100\n",
            "658/658 [==============================] - 5s 8ms/step - loss: 4.9580e-06\n",
            "Epoch 94/100\n",
            "658/658 [==============================] - 5s 8ms/step - loss: 5.1249e-06\n",
            "Epoch 95/100\n",
            "658/658 [==============================] - 5s 8ms/step - loss: 4.6377e-06\n",
            "Epoch 96/100\n",
            "658/658 [==============================] - 5s 8ms/step - loss: 4.6209e-06\n",
            "Epoch 97/100\n",
            "658/658 [==============================] - 5s 8ms/step - loss: 4.6897e-06\n",
            "Epoch 98/100\n",
            "658/658 [==============================] - 5s 8ms/step - loss: 5.3915e-06\n",
            "Epoch 99/100\n",
            "658/658 [==============================] - 5s 8ms/step - loss: 4.9826e-06\n",
            "Epoch 100/100\n",
            "658/658 [==============================] - 5s 8ms/step - loss: 5.0310e-06\n",
            "## Total Time Taken:  9 Minutes ##\n"
          ]
        }
      ]
    },
    {
      "cell_type": "code",
      "source": [
        "print(regressor.summary())"
      ],
      "metadata": {
        "colab": {
          "base_uri": "https://localhost:8080/"
        },
        "id": "2U3XlyC5oOW-",
        "outputId": "d09430c0-956d-4d03-9140-bb1eadfeb689"
      },
      "execution_count": null,
      "outputs": [
        {
          "output_type": "stream",
          "name": "stdout",
          "text": [
            "Model: \"sequential_4\"\n",
            "_________________________________________________________________\n",
            " Layer (type)                Output Shape              Param #   \n",
            "=================================================================\n",
            " lstm_12 (LSTM)              (None, 10, 10)            480       \n",
            "                                                                 \n",
            " lstm_13 (LSTM)              (None, 10, 5)             320       \n",
            "                                                                 \n",
            " lstm_14 (LSTM)              (None, 5)                 220       \n",
            "                                                                 \n",
            " dense_4 (Dense)             (None, 1)                 6         \n",
            "                                                                 \n",
            "=================================================================\n",
            "Total params: 1,026\n",
            "Trainable params: 1,026\n",
            "Non-trainable params: 0\n",
            "_________________________________________________________________\n",
            "None\n"
          ]
        }
      ]
    },
    {
      "cell_type": "markdown",
      "source": [
        "**Measuring the accuracy of the model on testing data**"
      ],
      "metadata": {
        "id": "_RvmTnJb2KAf"
      }
    },
    {
      "cell_type": "code",
      "source": [
        "# Making predictions on test data\n",
        "\n",
        "predicted_Price = regressor.predict(X_test)\n",
        "predicted_Price = DataScaler.inverse_transform(predicted_Price)\n",
        "\n",
        " # Getting the original price values for testing data\n",
        "orig=y_test\n",
        "orig=DataScaler.inverse_transform(y_test)\n",
        " \n",
        "# Accuracy of the predictions\n",
        "print('Accuracy:', 100 - (100*(abs(orig-predicted_Price)/orig)).mean())\n",
        " \n",
        "# Visualising the results\n",
        "import matplotlib.pyplot as plt\n",
        " \n",
        "plt.plot(predicted_Price, color = 'green', label = 'Predicted Volume')\n",
        "plt.plot(orig, color = 'red', label = 'Original Volume')\n",
        " \n",
        "plt.title('Stock Price Predictions')\n",
        "todataframe['Date'] = pd.to_datetime(todataframe.Date,format='%Y-%m-%d')\n",
        "todataframe.index = todataframe['Date']\n",
        "plt.xlabel('Trading Date')\n",
        "plt.xticks(range(TestingRecords), apple.tail(TestingRecords)['Date'])\n",
        "plt.ylabel('Stock Price')\n",
        " \n",
        "plt.legend()\n",
        "fig=plt.gcf()\n",
        "fig.set_figwidth(20)\n",
        "fig.set_figheight(6)\n",
        "plt.show()"
      ],
      "metadata": {
        "colab": {
          "base_uri": "https://localhost:8080/",
          "height": 421
        },
        "id": "xMv1EZqq2OBV",
        "outputId": "f68c276f-3abb-4b9d-b768-b8b4cca22f6b"
      },
      "execution_count": null,
      "outputs": [
        {
          "output_type": "stream",
          "name": "stdout",
          "text": [
            "Accuracy: 89.5005676886829\n"
          ]
        },
        {
          "output_type": "display_data",
          "data": {
            "text/plain": [
              "<Figure size 1440x432 with 1 Axes>"
            ],
            "image/png": "[encoded data removed]"
          },
          "metadata": {
            "needs_background": "light"
          }
        }
      ]
    },
    {
      "cell_type": "markdown",
      "source": [
        "**Regressor Metrics**"
      ],
      "metadata": {
        "id": "c7p202nBGHKz"
      }
    },
    {
      "cell_type": "code",
      "source": [
        "from sklearn.metrics import explained_variance_score\n",
        "print(explained_variance_score(orig, predicted_Price, multioutput='raw_values'))"
      ],
      "metadata": {
        "colab": {
          "base_uri": "https://localhost:8080/"
        },
        "id": "JNB3m4ouFWlF",
        "outputId": "438c6d1f-18a8-499a-c5d6-09e016777089"
      },
      "execution_count": null,
      "outputs": [
        {
          "output_type": "stream",
          "name": "stdout",
          "text": [
            "[0.90169523]\n"
          ]
        }
      ]
    },
    {
      "cell_type": "code",
      "source": [
        "from sklearn.metrics import max_error\n",
        "print(max_error(orig, predicted_Price))"
      ],
      "metadata": {
        "colab": {
          "base_uri": "https://localhost:8080/"
        },
        "id": "uHdebMbDFlSn",
        "outputId": "20cf3a88-f229-4ed4-9ac6-0a4938f65d34"
      },
      "execution_count": null,
      "outputs": [
        {
          "output_type": "stream",
          "name": "stdout",
          "text": [
            "47.86921697070312\n"
          ]
        }
      ]
    },
    {
      "cell_type": "code",
      "source": [
        "from sklearn.metrics import mean_absolute_error\n",
        "print(mean_absolute_error(orig, predicted_Price))"
      ],
      "metadata": {
        "colab": {
          "base_uri": "https://localhost:8080/"
        },
        "id": "Oh-DpYQ3FyVF",
        "outputId": "52c89bba-69fd-4d25-e1af-b5708beaf27a"
      },
      "execution_count": null,
      "outputs": [
        {
          "output_type": "stream",
          "name": "stdout",
          "text": [
            "13.710593009487106\n"
          ]
        }
      ]
    },
    {
      "cell_type": "code",
      "source": [
        "from sklearn.metrics import mean_squared_error\n",
        "print(mean_squared_error(orig, predicted_Price))"
      ],
      "metadata": {
        "colab": {
          "base_uri": "https://localhost:8080/"
        },
        "id": "sRKzjCXgF7H0",
        "outputId": "766cb745-e423-488c-bdea-701bb23833fc"
      },
      "execution_count": null,
      "outputs": [
        {
          "output_type": "stream",
          "name": "stdout",
          "text": [
            "376.47274654357045\n"
          ]
        }
      ]
    },
    {
      "cell_type": "code",
      "source": [
        "from sklearn.metrics import mean_squared_log_error\n",
        "print(mean_squared_log_error(orig, predicted_Price))"
      ],
      "metadata": {
        "colab": {
          "base_uri": "https://localhost:8080/"
        },
        "id": "bCxbpLHxGLvs",
        "outputId": "cb747357-4e5b-4729-fd4c-96015b4e3799"
      },
      "execution_count": null,
      "outputs": [
        {
          "output_type": "stream",
          "name": "stdout",
          "text": [
            "0.022065421839967368\n"
          ]
        }
      ]
    },
    {
      "cell_type": "code",
      "source": [
        "from sklearn.metrics import mean_absolute_percentage_error\n",
        "print(mean_absolute_percentage_error(orig, predicted_Price))"
      ],
      "metadata": {
        "colab": {
          "base_uri": "https://localhost:8080/"
        },
        "id": "zjqnYwgxGUgL",
        "outputId": "7c65f0ce-ab59-4033-f76d-0e0602fcffdf"
      },
      "execution_count": null,
      "outputs": [
        {
          "output_type": "stream",
          "name": "stdout",
          "text": [
            "0.10499432311317099\n"
          ]
        }
      ]
    },
    {
      "cell_type": "code",
      "source": [
        "from sklearn.metrics import median_absolute_error\n",
        "print(median_absolute_error(orig, predicted_Price))"
      ],
      "metadata": {
        "colab": {
          "base_uri": "https://localhost:8080/"
        },
        "id": "29f3xyhPGd7i",
        "outputId": "a925d995-6032-45bf-b8aa-021e433ed301"
      },
      "execution_count": null,
      "outputs": [
        {
          "output_type": "stream",
          "name": "stdout",
          "text": [
            "7.400676863525391\n"
          ]
        }
      ]
    },
    {
      "cell_type": "code",
      "source": [
        "from sklearn.metrics import r2_score\n",
        "print(r2_score(orig, predicted_Price))"
      ],
      "metadata": {
        "colab": {
          "base_uri": "https://localhost:8080/"
        },
        "id": "qG-gRJHpGlAD",
        "outputId": "c93319d0-45c4-4e61-c9f0-f9c394c6f6d3"
      },
      "execution_count": null,
      "outputs": [
        {
          "output_type": "stream",
          "name": "stdout",
          "text": [
            "0.8084977985003489\n"
          ]
        }
      ]
    },
    {
      "cell_type": "code",
      "source": [
        "from sklearn.metrics import mean_tweedie_deviance\n",
        "print(mean_tweedie_deviance(orig, predicted_Price))"
      ],
      "metadata": {
        "colab": {
          "base_uri": "https://localhost:8080/"
        },
        "id": "Fg6ysnaRGtQa",
        "outputId": "e88456de-8e95-4083-a4d5-5a1871d4e809"
      },
      "execution_count": null,
      "outputs": [
        {
          "output_type": "stream",
          "name": "stdout",
          "text": [
            "376.47274654357045\n"
          ]
        }
      ]
    },
    {
      "cell_type": "code",
      "source": [
        "from sklearn.metrics import mean_pinball_loss\n",
        "print(mean_pinball_loss(orig, predicted_Price))"
      ],
      "metadata": {
        "colab": {
          "base_uri": "https://localhost:8080/"
        },
        "id": "27U5rVrpG2NC",
        "outputId": "afeff528-fd11-4d89-de72-b2dbd6a0aa24"
      },
      "execution_count": null,
      "outputs": [
        {
          "output_type": "stream",
          "name": "stdout",
          "text": [
            "6.855296504743553\n"
          ]
        }
      ]
    },
    {
      "cell_type": "code",
      "source": [
        ""
      ],
      "metadata": {
        "id": "XJmu86yCQBUx"
      },
      "execution_count": null,
      "outputs": []
    },
    {
      "cell_type": "markdown",
      "source": [
        "**Visualizing the predictions for full data**"
      ],
      "metadata": {
        "id": "7VHYUi_c2ZHu"
      }
    },
    {
      "cell_type": "code",
      "source": [
        "# Generating predictions on full data\n",
        "TrainPredictions=DataScaler.inverse_transform(regressor.predict(X_train))\n",
        "TestPredictions=DataScaler.inverse_transform(regressor.predict(X_test))\n",
        " \n",
        "FullDataPredictions=np.append(TrainPredictions, TestPredictions)\n",
        "FullDataOrig=FullData[TimeSteps:]\n",
        " \n",
        "# plotting the full data\n",
        "plt.plot(FullDataPredictions, color = 'green', label = 'Predicted Price')\n",
        "plt.plot(FullDataOrig , color = 'red', label = 'Original Price')\n",
        " \n",
        " \n",
        "plt.title('Stock Price Predictions')\n",
        "plt.xlabel('Trading Date')\n",
        "plt.ylabel('Stock Price')\n",
        "plt.legend()\n",
        "fig=plt.gcf()\n",
        "fig.set_figwidth(20)\n",
        "fig.set_figheight(8)\n",
        "plt.show()"
      ],
      "metadata": {
        "colab": {
          "base_uri": "https://localhost:8080/",
          "height": 513
        },
        "id": "3kZoad5p2fV-",
        "outputId": "5fa5d90b-3f73-4316-f418-e46484e6dcde"
      },
      "execution_count": null,
      "outputs": [
        {
          "output_type": "display_data",
          "data": {
            "text/plain": [
              "<Figure size 1440x576 with 1 Axes>"
            ],
            "image/png": "[encoded data removed]"
          },
          "metadata": {
            "needs_background": "light"
          }
        }
      ]
    },
    {
      "cell_type": "code",
      "source": [
        ""
      ],
      "metadata": {
        "id": "txE6oZnO0lMh"
      },
      "execution_count": null,
      "outputs": []
    }
  ]
}